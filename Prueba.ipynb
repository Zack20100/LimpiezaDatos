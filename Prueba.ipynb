{
  "nbformat": 4,
  "nbformat_minor": 0,
  "metadata": {
    "colab": {
      "provenance": [],
      "authorship_tag": "ABX9TyM/EoQ/lsPxib5VbAlgtD7p",
      "include_colab_link": true
    },
    "kernelspec": {
      "name": "python3",
      "display_name": "Python 3"
    },
    "language_info": {
      "name": "python"
    }
  },
  "cells": [
    {
      "cell_type": "markdown",
      "metadata": {
        "id": "view-in-github",
        "colab_type": "text"
      },
      "source": [
        "<a href=\"https://colab.research.google.com/github/Zack20100/LimpiezaDatos/blob/main/Prueba.ipynb\" target=\"_parent\"><img src=\"https://colab.research.google.com/assets/colab-badge.svg\" alt=\"Open In Colab\"/></a>"
      ]
    },
    {
      "cell_type": "code",
      "source": [
        "!pip install skforecast"
      ],
      "metadata": {
        "id": "6xINLPC77JWp"
      },
      "execution_count": null,
      "outputs": []
    },
    {
      "cell_type": "code",
      "source": [
        "!pip install --upgrade statsmodels"
      ],
      "metadata": {
        "id": "urtDND_TBacF"
      },
      "execution_count": null,
      "outputs": []
    },
    {
      "cell_type": "code",
      "source": [
        "!pip install arch"
      ],
      "metadata": {
        "id": "fqBD2gn_JrSG"
      },
      "execution_count": null,
      "outputs": []
    },
    {
      "cell_type": "code",
      "execution_count": 110,
      "metadata": {
        "id": "CMYB6yw26RMn"
      },
      "outputs": [],
      "source": [
        "import pandas as pd\n",
        "import matplotlib.pyplot as plt\n",
        "from statsmodels.tsa.stattools import adfuller, kpss\n",
        "from datetime import datetime\n",
        "from arch.unitroot import PhillipsPerron as pprtest\n",
        "from arch.unitroot import DFGLS"
      ]
    },
    {
      "cell_type": "markdown",
      "source": [
        "# Librerías para dibujado de gráficos"
      ],
      "metadata": {
        "id": "bJvYmSiy6iKG"
      }
    },
    {
      "cell_type": "code",
      "source": [
        "import warnings\n",
        "warnings.filterwarnings('ignore')"
      ],
      "metadata": {
        "id": "TgX_cBkj7Wy1"
      },
      "execution_count": 111,
      "outputs": []
    },
    {
      "cell_type": "markdown",
      "source": [
        "# Descarga de datos"
      ],
      "metadata": {
        "id": "ZZ1p9eGE7b9e"
      }
    },
    {
      "cell_type": "code",
      "source": [
        "from google.colab import drive\n",
        "drive.mount('/content/drive')\n",
        "data = pd.read_csv(\"/content/drive/MyDrive/Colab Notebooks/Series temporales/Datos/vic_elec.csv\", sep=',', index_col=0)\n",
        "data.info()"
      ],
      "metadata": {
        "colab": {
          "base_uri": "https://localhost:8080/"
        },
        "id": "oMmBDQpu7eQ6",
        "outputId": "75cbd370-589f-4357-a848-42a651d3f484"
      },
      "execution_count": 112,
      "outputs": [
        {
          "output_type": "stream",
          "name": "stdout",
          "text": [
            "Drive already mounted at /content/drive; to attempt to forcibly remount, call drive.mount(\"/content/drive\", force_remount=True).\n",
            "<class 'pandas.core.frame.DataFrame'>\n",
            "Int64Index: 52608 entries, 0 to 52607\n",
            "Data columns (total 5 columns):\n",
            " #   Column       Non-Null Count  Dtype  \n",
            "---  ------       --------------  -----  \n",
            " 0   Time         52608 non-null  object \n",
            " 1   Demand       52608 non-null  float64\n",
            " 2   Temperature  52608 non-null  float64\n",
            " 3   Date         52608 non-null  object \n",
            " 4   Holiday      52608 non-null  bool   \n",
            "dtypes: bool(1), float64(2), object(2)\n",
            "memory usage: 2.1+ MB\n"
          ]
        }
      ]
    },
    {
      "cell_type": "code",
      "source": [
        "from google.colab import drive\n",
        "drive.mount('/content/drive')"
      ],
      "metadata": {
        "colab": {
          "base_uri": "https://localhost:8080/"
        },
        "id": "VpP_1VZV722G",
        "outputId": "ddad0b7c-3859-43f9-aabe-56ba3095206b"
      },
      "execution_count": 113,
      "outputs": [
        {
          "output_type": "stream",
          "name": "stdout",
          "text": [
            "Drive already mounted at /content/drive; to attempt to forcibly remount, call drive.mount(\"/content/drive\", force_remount=True).\n"
          ]
        }
      ]
    },
    {
      "cell_type": "code",
      "source": [
        "data.describe(include= \"all\").T"
      ],
      "metadata": {
        "colab": {
          "base_uri": "https://localhost:8080/",
          "height": 206
        },
        "id": "ms1ptLa677Zb",
        "outputId": "c6f53296-c211-4502-d448-1a6e5d818ec1"
      },
      "execution_count": 114,
      "outputs": [
        {
          "output_type": "execute_result",
          "data": {
            "text/plain": [
              "               count unique                   top   freq         mean  \\\n",
              "Time           52608  52608  2011-12-31T13:00:00Z      1          NaN   \n",
              "Demand       52608.0    NaN                   NaN    NaN  4665.432826   \n",
              "Temperature  52608.0    NaN                   NaN    NaN    16.265071   \n",
              "Date           52608   1096            2013-04-07     50          NaN   \n",
              "Holiday        52608      2                 False  51120          NaN   \n",
              "\n",
              "                    std          min          25%          50%          75%  \\\n",
              "Time                NaN          NaN          NaN          NaN          NaN   \n",
              "Demand       874.273645  2857.945728  3969.464472  4634.706032  5244.325424   \n",
              "Temperature    5.658849          1.5         12.3         15.4         19.4   \n",
              "Date                NaN          NaN          NaN          NaN          NaN   \n",
              "Holiday             NaN          NaN          NaN          NaN          NaN   \n",
              "\n",
              "                     max  \n",
              "Time                 NaN  \n",
              "Demand       9345.004346  \n",
              "Temperature         43.2  \n",
              "Date                 NaN  \n",
              "Holiday              NaN  "
            ],
            "text/html": [
              "\n",
              "  <div id=\"df-312b7c5e-b384-4bcc-afc0-c2931f403fd6\">\n",
              "    <div class=\"colab-df-container\">\n",
              "      <div>\n",
              "<style scoped>\n",
              "    .dataframe tbody tr th:only-of-type {\n",
              "        vertical-align: middle;\n",
              "    }\n",
              "\n",
              "    .dataframe tbody tr th {\n",
              "        vertical-align: top;\n",
              "    }\n",
              "\n",
              "    .dataframe thead th {\n",
              "        text-align: right;\n",
              "    }\n",
              "</style>\n",
              "<table border=\"1\" class=\"dataframe\">\n",
              "  <thead>\n",
              "    <tr style=\"text-align: right;\">\n",
              "      <th></th>\n",
              "      <th>count</th>\n",
              "      <th>unique</th>\n",
              "      <th>top</th>\n",
              "      <th>freq</th>\n",
              "      <th>mean</th>\n",
              "      <th>std</th>\n",
              "      <th>min</th>\n",
              "      <th>25%</th>\n",
              "      <th>50%</th>\n",
              "      <th>75%</th>\n",
              "      <th>max</th>\n",
              "    </tr>\n",
              "  </thead>\n",
              "  <tbody>\n",
              "    <tr>\n",
              "      <th>Time</th>\n",
              "      <td>52608</td>\n",
              "      <td>52608</td>\n",
              "      <td>2011-12-31T13:00:00Z</td>\n",
              "      <td>1</td>\n",
              "      <td>NaN</td>\n",
              "      <td>NaN</td>\n",
              "      <td>NaN</td>\n",
              "      <td>NaN</td>\n",
              "      <td>NaN</td>\n",
              "      <td>NaN</td>\n",
              "      <td>NaN</td>\n",
              "    </tr>\n",
              "    <tr>\n",
              "      <th>Demand</th>\n",
              "      <td>52608.0</td>\n",
              "      <td>NaN</td>\n",
              "      <td>NaN</td>\n",
              "      <td>NaN</td>\n",
              "      <td>4665.432826</td>\n",
              "      <td>874.273645</td>\n",
              "      <td>2857.945728</td>\n",
              "      <td>3969.464472</td>\n",
              "      <td>4634.706032</td>\n",
              "      <td>5244.325424</td>\n",
              "      <td>9345.004346</td>\n",
              "    </tr>\n",
              "    <tr>\n",
              "      <th>Temperature</th>\n",
              "      <td>52608.0</td>\n",
              "      <td>NaN</td>\n",
              "      <td>NaN</td>\n",
              "      <td>NaN</td>\n",
              "      <td>16.265071</td>\n",
              "      <td>5.658849</td>\n",
              "      <td>1.5</td>\n",
              "      <td>12.3</td>\n",
              "      <td>15.4</td>\n",
              "      <td>19.4</td>\n",
              "      <td>43.2</td>\n",
              "    </tr>\n",
              "    <tr>\n",
              "      <th>Date</th>\n",
              "      <td>52608</td>\n",
              "      <td>1096</td>\n",
              "      <td>2013-04-07</td>\n",
              "      <td>50</td>\n",
              "      <td>NaN</td>\n",
              "      <td>NaN</td>\n",
              "      <td>NaN</td>\n",
              "      <td>NaN</td>\n",
              "      <td>NaN</td>\n",
              "      <td>NaN</td>\n",
              "      <td>NaN</td>\n",
              "    </tr>\n",
              "    <tr>\n",
              "      <th>Holiday</th>\n",
              "      <td>52608</td>\n",
              "      <td>2</td>\n",
              "      <td>False</td>\n",
              "      <td>51120</td>\n",
              "      <td>NaN</td>\n",
              "      <td>NaN</td>\n",
              "      <td>NaN</td>\n",
              "      <td>NaN</td>\n",
              "      <td>NaN</td>\n",
              "      <td>NaN</td>\n",
              "      <td>NaN</td>\n",
              "    </tr>\n",
              "  </tbody>\n",
              "</table>\n",
              "</div>\n",
              "      <button class=\"colab-df-convert\" onclick=\"convertToInteractive('df-312b7c5e-b384-4bcc-afc0-c2931f403fd6')\"\n",
              "              title=\"Convert this dataframe to an interactive table.\"\n",
              "              style=\"display:none;\">\n",
              "        \n",
              "  <svg xmlns=\"http://www.w3.org/2000/svg\" height=\"24px\"viewBox=\"0 0 24 24\"\n",
              "       width=\"24px\">\n",
              "    <path d=\"M0 0h24v24H0V0z\" fill=\"none\"/>\n",
              "    <path d=\"M18.56 5.44l.94 2.06.94-2.06 2.06-.94-2.06-.94-.94-2.06-.94 2.06-2.06.94zm-11 1L8.5 8.5l.94-2.06 2.06-.94-2.06-.94L8.5 2.5l-.94 2.06-2.06.94zm10 10l.94 2.06.94-2.06 2.06-.94-2.06-.94-.94-2.06-.94 2.06-2.06.94z\"/><path d=\"M17.41 7.96l-1.37-1.37c-.4-.4-.92-.59-1.43-.59-.52 0-1.04.2-1.43.59L10.3 9.45l-7.72 7.72c-.78.78-.78 2.05 0 2.83L4 21.41c.39.39.9.59 1.41.59.51 0 1.02-.2 1.41-.59l7.78-7.78 2.81-2.81c.8-.78.8-2.07 0-2.86zM5.41 20L4 18.59l7.72-7.72 1.47 1.35L5.41 20z\"/>\n",
              "  </svg>\n",
              "      </button>\n",
              "      \n",
              "  <style>\n",
              "    .colab-df-container {\n",
              "      display:flex;\n",
              "      flex-wrap:wrap;\n",
              "      gap: 12px;\n",
              "    }\n",
              "\n",
              "    .colab-df-convert {\n",
              "      background-color: #E8F0FE;\n",
              "      border: none;\n",
              "      border-radius: 50%;\n",
              "      cursor: pointer;\n",
              "      display: none;\n",
              "      fill: #1967D2;\n",
              "      height: 32px;\n",
              "      padding: 0 0 0 0;\n",
              "      width: 32px;\n",
              "    }\n",
              "\n",
              "    .colab-df-convert:hover {\n",
              "      background-color: #E2EBFA;\n",
              "      box-shadow: 0px 1px 2px rgba(60, 64, 67, 0.3), 0px 1px 3px 1px rgba(60, 64, 67, 0.15);\n",
              "      fill: #174EA6;\n",
              "    }\n",
              "\n",
              "    [theme=dark] .colab-df-convert {\n",
              "      background-color: #3B4455;\n",
              "      fill: #D2E3FC;\n",
              "    }\n",
              "\n",
              "    [theme=dark] .colab-df-convert:hover {\n",
              "      background-color: #434B5C;\n",
              "      box-shadow: 0px 1px 3px 1px rgba(0, 0, 0, 0.15);\n",
              "      filter: drop-shadow(0px 1px 2px rgba(0, 0, 0, 0.3));\n",
              "      fill: #FFFFFF;\n",
              "    }\n",
              "  </style>\n",
              "\n",
              "      <script>\n",
              "        const buttonEl =\n",
              "          document.querySelector('#df-312b7c5e-b384-4bcc-afc0-c2931f403fd6 button.colab-df-convert');\n",
              "        buttonEl.style.display =\n",
              "          google.colab.kernel.accessAllowed ? 'block' : 'none';\n",
              "\n",
              "        async function convertToInteractive(key) {\n",
              "          const element = document.querySelector('#df-312b7c5e-b384-4bcc-afc0-c2931f403fd6');\n",
              "          const dataTable =\n",
              "            await google.colab.kernel.invokeFunction('convertToInteractive',\n",
              "                                                     [key], {});\n",
              "          if (!dataTable) return;\n",
              "\n",
              "          const docLinkHtml = 'Like what you see? Visit the ' +\n",
              "            '<a target=\"_blank\" href=https://colab.research.google.com/notebooks/data_table.ipynb>data table notebook</a>'\n",
              "            + ' to learn more about interactive tables.';\n",
              "          element.innerHTML = '';\n",
              "          dataTable['output_type'] = 'display_data';\n",
              "          await google.colab.output.renderOutput(dataTable, element);\n",
              "          const docLink = document.createElement('div');\n",
              "          docLink.innerHTML = docLinkHtml;\n",
              "          element.appendChild(docLink);\n",
              "        }\n",
              "      </script>\n",
              "    </div>\n",
              "  </div>\n",
              "  "
            ]
          },
          "metadata": {},
          "execution_count": 114
        }
      ]
    },
    {
      "cell_type": "markdown",
      "source": [
        "# Columna Time a formato DateTime y a índice\n",
        " La columna Time no está con formato DateTime. Hay que transformarla."
      ],
      "metadata": {
        "id": "EqHpT2Xq86qe"
      }
    },
    {
      "cell_type": "code",
      "source": [
        "data['Time'] = pd.to_datetime(data['Time'])"
      ],
      "metadata": {
        "id": "n-rTHadGC5RH"
      },
      "execution_count": 115,
      "outputs": []
    },
    {
      "cell_type": "code",
      "source": [
        "data.set_index('Time', inplace=True)"
      ],
      "metadata": {
        "id": "mvVFJ9hy88_v"
      },
      "execution_count": 116,
      "outputs": []
    },
    {
      "cell_type": "code",
      "source": [
        "print(data.head())"
      ],
      "metadata": {
        "colab": {
          "base_uri": "https://localhost:8080/"
        },
        "id": "6CH7GFZJEDea",
        "outputId": "4c1446bd-3757-4e96-e88d-55c0698185aa"
      },
      "execution_count": 117,
      "outputs": [
        {
          "output_type": "stream",
          "name": "stdout",
          "text": [
            "                                Demand  Temperature        Date  Holiday\n",
            "Time                                                                    \n",
            "2011-12-31 13:00:00+00:00  4382.825174        21.40  2012-01-01     True\n",
            "2011-12-31 13:30:00+00:00  4263.365526        21.05  2012-01-01     True\n",
            "2011-12-31 14:00:00+00:00  4048.966046        20.70  2012-01-01     True\n",
            "2011-12-31 14:30:00+00:00  3877.563330        20.55  2012-01-01     True\n",
            "2011-12-31 15:00:00+00:00  4036.229746        20.40  2012-01-01     True\n"
          ]
        }
      ]
    },
    {
      "cell_type": "markdown",
      "source": [
        "# Visualización del gráfico de series temporales"
      ],
      "metadata": {
        "id": "IJYxbRx4EMkT"
      }
    },
    {
      "cell_type": "code",
      "source": [
        "plt.plot(data.index, data['Demand'])\n",
        "plt.xlabel('Time')\n",
        "plt.ylabel('Demand')\n",
        "plt.title('series temporales')\n",
        "plt.show()"
      ],
      "metadata": {
        "colab": {
          "base_uri": "https://localhost:8080/",
          "height": 508
        },
        "id": "UARZaY8CENc8",
        "outputId": "27b2a513-b57d-45c5-c151-c792d86c75b9"
      },
      "execution_count": 118,
      "outputs": [
        {
          "output_type": "display_data",
          "data": {
            "text/plain": [
              "<Figure size 640x480 with 1 Axes>"
            ],
            "image/png": "[encoded data removed]"
          },
          "metadata": {}
        }
      ]
    },
    {
      "cell_type": "markdown",
      "source": [
        "# Application des tests statistiques"
      ],
      "metadata": {
        "id": "GoYvskuyFR-K"
      }
    },
    {
      "cell_type": "code",
      "source": [
        "# Test de Dickey-Fuller augmenté (ADF)\n",
        "result = adfuller(data['Demand'])\n",
        "print('Estadística de prueba ADF:', result[0])\n",
        "print('Valeur p:', result[1])\n",
        "print('Valeurs critiques:', result[4])\n",
        "if result[1] > 0.05:\n",
        "    print('La serie temporal no es estacionaria')\n",
        "else:\n",
        "    print('La serie temporal es estacionaria')"
      ],
      "metadata": {
        "colab": {
          "base_uri": "https://localhost:8080/"
        },
        "id": "KLLp6QuQGSak",
        "outputId": "6586bb54-398e-49f1-c7ab-7e3b7dbd840c"
      },
      "execution_count": 131,
      "outputs": [
        {
          "output_type": "stream",
          "name": "stdout",
          "text": [
            "Estadística de prueba ADF: -16.590466053463988\n",
            "Valeur p: 1.8008398208632724e-29\n",
            "Valeurs critiques: {'1%': -3.430474445660473, '5%': -2.8615950024849743, '10%': -2.566799275993413}\n",
            "La serie temporal es estacionaria\n"
          ]
        }
      ]
    },
    {
      "cell_type": "code",
      "source": [
        "# Test de KPSS\n",
        "result = kpss(data['Demand'])\n",
        "print('Estadística de prueba KPSS:', result[0])\n",
        "print('Valeur p:', result[1])\n",
        "print('Valeurs critiques:', result[3])\n",
        "if result[1] > 0.05:\n",
        "    print('La serie temporal no es estacionaria')\n",
        "else:\n",
        "    print('La serie temporal es estacionaria')\n"
      ],
      "metadata": {
        "colab": {
          "base_uri": "https://localhost:8080/"
        },
        "id": "eBvgm0VhHhFM",
        "outputId": "822b4a5f-338b-4faf-d76c-ad3094111878"
      },
      "execution_count": 130,
      "outputs": [
        {
          "output_type": "stream",
          "name": "stdout",
          "text": [
            "Estadística de prueba KPSS: 1.6533925405471313\n",
            "Valeur p: 0.01\n",
            "Valeurs critiques: {'10%': 0.347, '5%': 0.463, '2.5%': 0.574, '1%': 0.739}\n",
            "La serie temporal es estacionaria\n"
          ]
        }
      ]
    },
    {
      "cell_type": "code",
      "source": [
        "# Test de Phillips Perron\n",
        "result = pprtest(data[\"Demand\"])\n",
        "print('Estadística de prueba:', result.stat)\n",
        "print('Valor p:', result.pvalue)\n",
        "print('Valores críticos:')\n",
        "for key, value in result.critical_values.items():\n",
        "    print('\\t{}: {}'.format(key, value))\n",
        "if result.pvalue > 0.05:\n",
        "    print('La serie temporal no es estacionaria')\n",
        "else:\n",
        "    print('La serie temporal es estacionaria')"
      ],
      "metadata": {
        "colab": {
          "base_uri": "https://localhost:8080/"
        },
        "id": "v_hbGSYXHvuG",
        "outputId": "cfc0b963-7936-417e-d9a4-3de7d72123a5"
      },
      "execution_count": 129,
      "outputs": [
        {
          "output_type": "stream",
          "name": "stdout",
          "text": [
            "Estadística de prueba: -20.78114589695157\n",
            "Valor p: 0.0\n",
            "Valores críticos:\n",
            "\t1%: -3.4304743108162734\n",
            "\t5%: -2.861594942887792\n",
            "\t10%: -2.5667992442715977\n",
            "La serie temporal es estacionaria\n"
          ]
        }
      ]
    },
    {
      "cell_type": "code",
      "source": [
        "# Prueba de Dickey-Fuller least squares generalizado\n",
        "dfgls = DFGLS(data[\"Demand\"], lags=10)\n",
        "print('Estadística de prueba:', dfgls.stat)\n",
        "print('Valor p:', dfgls.pvalue)\n",
        "print('Valores críticos:')\n",
        "for key, value in dfgls.critical_values.items():\n",
        "    print('\\t{}: {}'.format(key, value))\n",
        "if result.pvalue > 0.05:\n",
        "    print('La serie temporal no es estacionaria')\n",
        "else:\n",
        "    print('La serie temporal es estacionaria')"
      ],
      "metadata": {
        "colab": {
          "base_uri": "https://localhost:8080/"
        },
        "id": "gOVdql-rR0RT",
        "outputId": "a3b47e91-45cb-4133-aa3b-6fe240c6bf6f"
      },
      "execution_count": 127,
      "outputs": [
        {
          "output_type": "stream",
          "name": "stdout",
          "text": [
            "Estadística de prueba: -43.75076809617645\n",
            "Valor p: 0.0\n",
            "Valores críticos:\n",
            "\t1%: -2.5682087139940424\n",
            "\t5%: -1.944046245354793\n",
            "\t10%: -1.6204247858938594\n",
            "La serie temporal es estacionaria\n"
          ]
        }
      ]
    }
  ]
}